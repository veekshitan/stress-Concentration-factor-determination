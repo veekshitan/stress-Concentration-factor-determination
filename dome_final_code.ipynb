{
  "nbformat": 4,
  "nbformat_minor": 0,
  "metadata": {
    "colab": {
      "provenance": []
    },
    "kernelspec": {
      "name": "python3",
      "display_name": "Python 3"
    },
    "language_info": {
      "name": "python"
    }
  },
  "cells": [
    {
      "cell_type": "code",
      "execution_count": null,
      "metadata": {
        "colab": {
          "base_uri": "https://localhost:8080/"
        },
        "id": "S9TbEIFlSKBk",
        "outputId": "c846291e-91ff-4c08-fa27-2aea904f749c"
      },
      "outputs": [
        {
          "output_type": "stream",
          "name": "stdout",
          "text": [
            "R2 Score:  0.6559745869993705\n",
            "Please enter the value of radius of the hole: 217.8\n",
            "Stress concentration factor = 2.413322866889462\n"
          ]
        }
      ],
      "source": [
        "import matplotlib.pyplot as plt\n",
        "import numpy\n",
        "import math\n",
        "\n",
        "\n",
        "p1 = []\n",
        "p2 = []\n",
        "\n",
        "#reading data from csv\n",
        "fp=open('dome-data2.csv', 'r')\n",
        "for line in fp.readlines()[1:]:\n",
        "    l=[float(i) for i in (line.strip().split(','))[1:]]\n",
        "    p1.append(l[0])\n",
        "    p2.append(l[-1])\n",
        "\n",
        "x=numpy.array(p1)\n",
        "y=numpy.array(p2)\n",
        "\n",
        "\n",
        "from sklearn.linear_model import LinearRegression\n",
        "\n",
        "from sklearn.preprocessing import PolynomialFeatures\n",
        "\n",
        "from sklearn.pipeline import Pipeline\n",
        "# creating pipeline and fitting it on data\n",
        "from sklearn.model_selection import train_test_split\n",
        "from sklearn.metrics import r2_score\n",
        "\n",
        "#splitting data to training and testing sets\n",
        "\n",
        "X_train, X_test, y_train, y_test = train_test_split(x, y, test_size=0.2, random_state=(73) )\n",
        "\n",
        "\n",
        "Input=[('polynomial',PolynomialFeatures(degree=6)),('modal',LinearRegression())]\n",
        "#data extraction\n",
        "pipe=Pipeline(Input)\n",
        "#model training\n",
        "pipe.fit(X_train.reshape(-1, 1),y_train.reshape(-1, 1))\n",
        "y_pred=pipe.predict(X_test.reshape(-1, 1))\n",
        "# calculating r2 score for our test data\n",
        "print(\"R2 Score: \", r2_score(y_test, y_pred))\n",
        "\n",
        "#predicting the result for any value\n",
        "inputX=float(input(\"Please enter the value of radius of the hole: \"))\n",
        "inputX=numpy.array([inputX])\n",
        "print(\"Stress concentration factor =\", pipe.predict(inputX.reshape(-1, 1))[0][0])"
      ]
    },
    {
      "cell_type": "code",
      "source": [],
      "metadata": {
        "id": "VfeSr7BrKzxJ"
      },
      "execution_count": null,
      "outputs": []
    }
  ]
}